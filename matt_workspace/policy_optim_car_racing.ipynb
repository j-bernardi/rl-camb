{
 "cells": [
  {
   "cell_type": "markdown",
   "metadata": {},
   "source": [
    "# Simple Policy Optimization\n",
    "Notebook for trying out the tooling involved in using policy gradient methods to train a model on SpaceInvaders."
   ]
  },
  {
   "cell_type": "code",
   "execution_count": 1,
   "metadata": {},
   "outputs": [],
   "source": [
    "import tensorflow as tf\n",
    "import tensorflow_probability as tfp\n",
    "import gym\n",
    "import matplotlib.pyplot as plt\n",
    "import numpy as np\n",
    "tfd = tfp.distributions\n",
    "%matplotlib inline"
   ]
  },
  {
   "cell_type": "code",
   "execution_count": 2,
   "metadata": {},
   "outputs": [],
   "source": [
    "# Edge TPU for embedding extraction\n",
    "from edgetpu.basic import basic_engine"
   ]
  },
  {
   "cell_type": "code",
   "execution_count": 3,
   "metadata": {},
   "outputs": [],
   "source": [
    "import os\n",
    "if os.environ.get(\"DISPLAY\") is str and len(os.environ.get(\"DISPLAY\"))!=0:\n",
    "    !bash ../xvfb start\n",
    "    %env DISPLAY=:1\n",
    "# !pip install gym[box2d]"
   ]
  },
  {
   "cell_type": "code",
   "execution_count": 4,
   "metadata": {},
   "outputs": [],
   "source": [
    "model_path = os.path.join(\n",
    "    os.environ.get('HOME'), 'Work', 'ExternCode', 'edgetpu_models',\n",
    "    'mobilenet_v1_1.0_224_quant_embedding_extractor_edgetpu.tflite')"
   ]
  },
  {
   "cell_type": "code",
   "execution_count": 5,
   "metadata": {},
   "outputs": [
    {
     "data": {
      "text/plain": [
       "'2.1.0'"
      ]
     },
     "execution_count": 5,
     "metadata": {},
     "output_type": "execute_result"
    }
   ],
   "source": [
    "tf.__version__"
   ]
  },
  {
   "cell_type": "code",
   "execution_count": 6,
   "metadata": {},
   "outputs": [
    {
     "data": {
      "text/plain": [
       "True"
      ]
     },
     "execution_count": 6,
     "metadata": {},
     "output_type": "execute_result"
    }
   ],
   "source": [
    "tf.executing_eagerly()"
   ]
  },
  {
   "cell_type": "code",
   "execution_count": 7,
   "metadata": {},
   "outputs": [
    {
     "data": {
      "text/plain": [
       "'0.9.0'"
      ]
     },
     "execution_count": 7,
     "metadata": {},
     "output_type": "execute_result"
    }
   ],
   "source": [
    "tfp.__version__"
   ]
  },
  {
   "cell_type": "markdown",
   "metadata": {},
   "source": [
    "# Create Car Racing environment "
   ]
  },
  {
   "cell_type": "code",
   "execution_count": 8,
   "metadata": {},
   "outputs": [],
   "source": [
    "env_name = 'CarRacing-v0' # 'SpaceInvaders-v0'\n",
    "env = gym.make(env_name)"
   ]
  },
  {
   "cell_type": "code",
   "execution_count": 9,
   "metadata": {},
   "outputs": [
    {
     "data": {
      "text/plain": [
       "Box(96, 96, 3)"
      ]
     },
     "execution_count": 9,
     "metadata": {},
     "output_type": "execute_result"
    }
   ],
   "source": [
    "env.observation_space"
   ]
  },
  {
   "cell_type": "code",
   "execution_count": 10,
   "metadata": {},
   "outputs": [
    {
     "data": {
      "text/plain": [
       "Box(3,)"
      ]
     },
     "execution_count": 10,
     "metadata": {},
     "output_type": "execute_result"
    }
   ],
   "source": [
    "env.action_space"
   ]
  },
  {
   "cell_type": "code",
   "execution_count": 11,
   "metadata": {},
   "outputs": [
    {
     "name": "stdout",
     "output_type": "stream",
     "text": [
      "Track generation: 1176..1478 -> 302-tiles track\n"
     ]
    },
    {
     "data": {
      "image/png": "[encoded data removed]",
      "text/plain": [
       "<Figure size 432x288 with 1 Axes>"
      ]
     },
     "metadata": {
      "needs_background": "light"
     },
     "output_type": "display_data"
    }
   ],
   "source": [
    "_ = plt.imshow(env.reset())"
   ]
  },
  {
   "cell_type": "code",
   "execution_count": 12,
   "metadata": {},
   "outputs": [
    {
     "data": {
      "text/plain": [
       "(array([-1.,  0.,  0.], dtype=float32), array([1., 1., 1.], dtype=float32))"
      ]
     },
     "execution_count": 12,
     "metadata": {},
     "output_type": "execute_result"
    }
   ],
   "source": [
    "env.action_space.low, env.action_space.high"
   ]
  },
  {
   "cell_type": "code",
   "execution_count": 13,
   "metadata": {},
   "outputs": [
    {
     "data": {
      "text/plain": [
       "array([0.6642072 , 0.398046  , 0.93044287], dtype=float32)"
      ]
     },
     "execution_count": 13,
     "metadata": {},
     "output_type": "execute_result"
    }
   ],
   "source": [
    "# Sampling from action space randomly\n",
    "# tfd.Multinomial(total_count=1, logits=[-1.] * env.action_space.n).sample(1)\n",
    "env.action_space.sample()"
   ]
  },
  {
   "cell_type": "markdown",
   "metadata": {},
   "source": [
    "# Next step: create h x w x n_frame tensor \n",
    "We can implement sequence of frames by allocating an initial h x w x n_frame tensor and for each new frame\n",
    "rolling the tensor along axis 2 then assigning the new frame to channel 0. Is there a better or more idiomatic way to do this?\n",
    "Could concatenate each new frame onto buffer."
   ]
  },
  {
   "cell_type": "code",
   "execution_count": 14,
   "metadata": {},
   "outputs": [],
   "source": [
    "n_row_col = 2\n",
    "n_frame = n_row_col**2  # Square number for tiling\n",
    "buffer = tf.zeros((n_frame,) + env.observation_space.shape, dtype=tf.uint8)"
   ]
  },
  {
   "cell_type": "code",
   "execution_count": 15,
   "metadata": {},
   "outputs": [
    {
     "data": {
      "text/plain": [
       "TensorShape([4, 96, 96, 3])"
      ]
     },
     "execution_count": 15,
     "metadata": {},
     "output_type": "execute_result"
    }
   ],
   "source": [
    "buffer.shape"
   ]
  },
  {
   "cell_type": "code",
   "execution_count": 16,
   "metadata": {},
   "outputs": [],
   "source": [
    "# f = plt.figure()\n",
    "for i in range(100):\n",
    "    obs, reward, done, info = env.step(env.action_space.sample())\n",
    "    updated_buffer = tf.concat([obs[tf.newaxis, ...], buffer[:-1, ...]], axis=0)\n",
    "    buffer = updated_buffer\n",
    "#     _ = plt.imshow(buffer[0, ...])\n",
    "#     plt.show()"
   ]
  },
  {
   "cell_type": "code",
   "execution_count": 17,
   "metadata": {},
   "outputs": [],
   "source": [
    "def seq_to_img(seq, n):\n",
    "    res = []\n",
    "    for i in range(n):\n",
    "        res.append(tf.concat([seq[i*n + j, ...] for j in range(n)], axis=1))\n",
    "    return tf.concat(res, axis=0)"
   ]
  },
  {
   "cell_type": "code",
   "execution_count": 18,
   "metadata": {},
   "outputs": [
    {
     "data": {
      "image/png": "[encoded data removed]",
      "text/plain": [
       "<Figure size 864x576 with 1 Axes>"
      ]
     },
     "metadata": {
      "needs_background": "light"
     },
     "output_type": "display_data"
    }
   ],
   "source": [
    "fig = plt.figure(figsize=(12,8))\n",
    "# _ = plt.imshow(tf.reshape(tf.transpose(buffer, perm=[3, 2, 1, 0]), (2*96, 2*96, -1)))\n",
    "_ = plt.imshow(seq_to_img(buffer, n_row_col))\n",
    "ax = plt.gca()\n",
    "# ax.axis('equal')\n",
    "ax.set_aspect('equal', 'box')\n",
    "# fig.savefig('test.png')"
   ]
  },
  {
   "cell_type": "markdown",
   "metadata": {},
   "source": [
    "# Extract embedding\n",
    "Use the MobileNet v1 model running on EdgeTPU to convert the set of n_frame frames represented as a single image into a 1024 element feature vector"
   ]
  },
  {
   "cell_type": "code",
   "execution_count": 19,
   "metadata": {},
   "outputs": [],
   "source": [
    "engine = basic_engine.BasicEngine(model_path=model_path)"
   ]
  },
  {
   "cell_type": "code",
   "execution_count": 20,
   "metadata": {},
   "outputs": [
    {
     "data": {
      "text/plain": [
       "array([1024], dtype=int32)"
      ]
     },
     "execution_count": 20,
     "metadata": {},
     "output_type": "execute_result"
    }
   ],
   "source": [
    "engine.get_all_output_tensors_sizes()"
   ]
  },
  {
   "cell_type": "code",
   "execution_count": 21,
   "metadata": {},
   "outputs": [],
   "source": [
    "_, img_ht, img_wd, _ = engine.get_input_tensor_shape()"
   ]
  },
  {
   "cell_type": "code",
   "execution_count": 22,
   "metadata": {},
   "outputs": [],
   "source": [
    "buff_resized = tf.image.resize(seq_to_img(buffer, n_row_col), (img_ht, img_wd), method='nearest').numpy()"
   ]
  },
  {
   "cell_type": "code",
   "execution_count": 23,
   "metadata": {},
   "outputs": [
    {
     "data": {
      "text/plain": [
       "(224, 224, 3)"
      ]
     },
     "execution_count": 23,
     "metadata": {},
     "output_type": "execute_result"
    }
   ],
   "source": [
    "buff_resized.shape"
   ]
  },
  {
   "cell_type": "code",
   "execution_count": 24,
   "metadata": {},
   "outputs": [
    {
     "data": {
      "image/png": "[encoded data removed]",
      "text/plain": [
       "<Figure size 432x288 with 1 Axes>"
      ]
     },
     "metadata": {
      "needs_background": "light"
     },
     "output_type": "display_data"
    }
   ],
   "source": [
    "_ = plt.imshow(buff_resized)"
   ]
  },
  {
   "cell_type": "code",
   "execution_count": 25,
   "metadata": {},
   "outputs": [
    {
     "name": "stdout",
     "output_type": "stream",
     "text": [
      "Time taken to extract embedding: 3.58ms\n"
     ]
    }
   ],
   "source": [
    "_, _ = engine.run_inference(buff_resized.flatten()) # First run is slower, ignore\n",
    "time_ms, embedding = engine.run_inference(buff_resized.flatten())\n",
    "print(f'Time taken to extract embedding: {time_ms:.2f}ms')"
   ]
  },
  {
   "cell_type": "code",
   "execution_count": 26,
   "metadata": {},
   "outputs": [
    {
     "data": {
      "text/plain": [
       "array([4.188069  , 0.        , 0.07058543, ..., 0.3293987 , 0.        ,\n",
       "       0.        ], dtype=float32)"
      ]
     },
     "execution_count": 26,
     "metadata": {},
     "output_type": "execute_result"
    }
   ],
   "source": [
    "embedding"
   ]
  },
  {
   "cell_type": "code",
   "execution_count": 27,
   "metadata": {},
   "outputs": [
    {
     "data": {
      "image/png": "[encoded data removed]",
      "text/plain": [
       "<Figure size 432x288 with 1 Axes>"
      ]
     },
     "metadata": {
      "needs_background": "light"
     },
     "output_type": "display_data"
    }
   ],
   "source": [
    "_ = plt.imshow(embedding.reshape(8, -1))\n",
    "_ = plt.gca().axis('off')"
   ]
  },
  {
   "cell_type": "code",
   "execution_count": 28,
   "metadata": {},
   "outputs": [
    {
     "data": {
      "text/plain": [
       "(1024,)"
      ]
     },
     "execution_count": 28,
     "metadata": {},
     "output_type": "execute_result"
    }
   ],
   "source": [
    "embedding.shape"
   ]
  },
  {
   "cell_type": "markdown",
   "metadata": {},
   "source": [
    "# Define the policy network\n",
    "Now that we have a simple observation space to work with we can look at creating a policy network from it.\n",
    "Our action space is 3D \\[0., 1.\\] unit cube (-1.,-1 for first dimension) which suggests we could sample each action dimension from a Beta distribution. The Beta distribution is defined by two non-negative parameters a and b so a simple policy network can be created by using a single fully connected layer with exponential activation function."
   ]
  },
  {
   "cell_type": "code",
   "execution_count": 98,
   "metadata": {},
   "outputs": [],
   "source": [
    "inputs = tf.keras.layers.Input(shape=(1024, ))\n",
    "fc = tf.keras.layers.Dense(\n",
    "    6, activation='exponential',  kernel_initializer='zeros',\n",
    "    bias_initializer='zeros'\n",
    ")(inputs)\n",
    "unscaled_actions = tfp.layers.DistributionLambda(\n",
    "    lambda x: tfd.Beta(x[...,:3], x[..., 3:], name='unscaled')\n",
    ")(fc)\n",
    "# Shift and scale: subtract min, scale by range, add min\n",
    "shift_b1 = tfp.bijectors.Shift(env.action_space.low, name='shift_1')\n",
    "scale_b = tfp.bijectors.Scale(env.action_space.high - env.action_space.low, name='scale')\n",
    "shift_b2 = tfp.bijectors.Shift(-env.action_space.low, name='shift_2')\n",
    "# Transform the individual Beta distributions to get correct output ranges\n",
    "# and also combine into single event using tfd.Independent\n",
    "scaled_actions = tfp.layers.DistributionLambda(\n",
    "    lambda x: tfd.Independent(\n",
    "        tfd.TransformedDistribution(\n",
    "            distribution=x,\n",
    "            bijector=tfp.bijectors.Chain([shift_b2, scale_b, shift_b1]),\n",
    "            name='shift_scale'\n",
    "        ),\n",
    "        reinterpreted_batch_ndims=None,\n",
    "        name='independent'\n",
    "    ))(unscaled_actions)\n",
    "\n",
    "network = tf.keras.Model(inputs, scaled_actions)"
   ]
  },
  {
   "cell_type": "code",
   "execution_count": 99,
   "metadata": {},
   "outputs": [],
   "source": [
    "network.build(input_shape=(1024, ))"
   ]
  },
  {
   "cell_type": "code",
   "execution_count": 100,
   "metadata": {},
   "outputs": [
    {
     "name": "stdout",
     "output_type": "stream",
     "text": [
      "Model: \"model_11\"\n",
      "_________________________________________________________________\n",
      "Layer (type)                 Output Shape              Param #   \n",
      "=================================================================\n",
      "input_12 (InputLayer)        [(None, 1024)]            0         \n",
      "_________________________________________________________________\n",
      "dense_11 (Dense)             (None, 6)                 6150      \n",
      "_________________________________________________________________\n",
      "distribution_lambda_21 (Dist ((None, 3), (None, 3))    0         \n",
      "_________________________________________________________________\n",
      "distribution_lambda_22 (Dist ((None, 3), (None, 3))    0         \n",
      "=================================================================\n",
      "Total params: 6,150\n",
      "Trainable params: 6,150\n",
      "Non-trainable params: 0\n",
      "_________________________________________________________________\n"
     ]
    }
   ],
   "source": [
    "network.summary()"
   ]
  },
  {
   "cell_type": "code",
   "execution_count": 125,
   "metadata": {},
   "outputs": [
    {
     "data": {
      "image/png": "[encoded data removed]",
      "text/plain": [
       "<Figure size 432x288 with 1 Axes>"
      ]
     },
     "metadata": {
      "needs_background": "light"
     },
     "output_type": "display_data"
    }
   ],
   "source": [
    "# Can sample from policy \n",
    "_ = plt.hist(network(embedding.reshape((1,-1))).sample(5000).numpy().reshape((-1, 3)))"
   ]
  },
  {
   "cell_type": "code",
   "execution_count": 102,
   "metadata": {},
   "outputs": [],
   "source": [
    "next_action = network(embedding.reshape((1,-1)))"
   ]
  },
  {
   "cell_type": "code",
   "execution_count": 126,
   "metadata": {},
   "outputs": [
    {
     "data": {
      "text/plain": [
       "<tf.Tensor: shape=(1,), dtype=float32, numpy=array([-0.6931472], dtype=float32)>"
      ]
     },
     "execution_count": 126,
     "metadata": {},
     "output_type": "execute_result"
    }
   ],
   "source": [
    "next_action.log_prob([0., 0., 0.])"
   ]
  },
  {
   "cell_type": "code",
   "execution_count": 138,
   "metadata": {},
   "outputs": [
    {
     "data": {
      "text/plain": [
       "<tf.Tensor: shape=(3,), dtype=float32, numpy=array([0.17625391, 0.119437  , 0.97266936], dtype=float32)>"
      ]
     },
     "execution_count": 138,
     "metadata": {},
     "output_type": "execute_result"
    }
   ],
   "source": [
    "next_action.sample()[0]"
   ]
  },
  {
   "cell_type": "code",
   "execution_count": 165,
   "metadata": {},
   "outputs": [],
   "source": [
    "def compute_loss(network, obs, act, weights):\n",
    "    print(obs)\n",
    "    print(act)\n",
    "    print(weights)\n",
    "    logp = network(obs).log_prob(act)\n",
    "    return tf.reduce_mean(-(logp * weights))"
   ]
  },
  {
   "cell_type": "code",
   "execution_count": 168,
   "metadata": {},
   "outputs": [],
   "source": [
    "# for training policy\n",
    "def train_one_epoch():\n",
    "    # MMcD Storing sequence of frames\n",
    "    n_row_col = 2\n",
    "    n_frame = n_row_col**2  # Square number for tiling\n",
    "    buffer = tf.zeros((n_frame,) + env.observation_space.shape, dtype=tf.uint8)\n",
    "    batch_size = 100\n",
    "        \n",
    "    # make some empty lists for logging.\n",
    "    batch_obs = []          # for observations\n",
    "    batch_acts = []         # for actions\n",
    "    batch_weights = []      # for R(tau) weighting in policy gradient\n",
    "    batch_rets = []         # for measuring episode returns\n",
    "    batch_lens = []         # for measuring episode lengths\n",
    "\n",
    "    # reset episode-specific variables\n",
    "    obs = env.reset()       # first obs comes from starting distribution\n",
    "    done = False            # signal from environment that episode is over\n",
    "    ep_rews = []            # list for rewards accrued throughout ep\n",
    "\n",
    "    # render first episode of each epoch\n",
    "    finished_rendering_this_epoch = False\n",
    "\n",
    "    updated_buffer = tf.concat([obs[tf.newaxis, ...], buffer[:-1, ...]], axis=0)\n",
    "    buffer = updated_buffer\n",
    "    \n",
    "    # collect experience by acting in the environment with current policy\n",
    "    while True:\n",
    "\n",
    "#         # rendering\n",
    "#         if (not finished_rendering_this_epoch) and render:\n",
    "#             env.render()\n",
    "\n",
    "        buff_resized = tf.image.resize(\n",
    "            seq_to_img(buffer, n_row_col), (img_ht, img_wd), method='nearest').numpy()\n",
    "        time_ms, embedding = engine.run_inference(buff_resized.flatten())\n",
    "\n",
    "\n",
    "        # save obs\n",
    "        batch_obs.append(embedding.copy())\n",
    "\n",
    "        \n",
    "        # act in the environment\n",
    "        act = network(embedding.reshape((1,-1))).sample()[0].numpy()\n",
    "        # act = get_action(torch.as_tensor(obs, dtype=torch.float32))\n",
    "        obs, rew, done, _ = env.step(act)\n",
    "\n",
    "        updated_buffer = tf.concat([obs[tf.newaxis, ...], buffer[:-1, ...]], axis=0)\n",
    "        buffer = updated_buffer\n",
    "        \n",
    "        # save action, reward\n",
    "        batch_acts.append(act)\n",
    "        ep_rews.append(rew)\n",
    "\n",
    "        if done:\n",
    "            # if episode is over, record info about episode\n",
    "            ep_ret, ep_len = sum(ep_rews), len(ep_rews)\n",
    "            batch_rets.append(ep_ret)\n",
    "            batch_lens.append(ep_len)\n",
    "\n",
    "            # the weight for each logprob(a|s) is R(tau)\n",
    "            batch_weights += [ep_ret] * ep_len\n",
    "\n",
    "            # reset episode-specific variables\n",
    "            obs, done, ep_rews = env.reset(), False, []\n",
    "\n",
    "            # won't render again this epoch\n",
    "            finished_rendering_this_epoch = True\n",
    "\n",
    "            # end experience loop if we have enough of it\n",
    "            if len(batch_obs) > batch_size:\n",
    "                break\n",
    "\n",
    "    # MMcD Optimizer for update step\n",
    "    adam = tf.keras.optimizers.Adam(learning_rate=1e-4)\n",
    "    # take a single policy gradient update step\n",
    "    # optimizer.zero_grad()\n",
    "    batch_loss = compute_loss(network, obs=tf.convert_to_tensor(batch_obs), \n",
    "                              act=tf.convert_to_tensor(batch_acts), \n",
    "                              weights=tf.convert_to_tensor(batch_weights)\n",
    "                            )\n",
    "    updates = adam.get_updates(\n",
    "        params=network.trainable_weights,\n",
    "        # constraints=[],\n",
    "        loss=batch_loss)\n",
    "    \n",
    "    return batch_loss, batch_rets, batch_lens"
   ]
  },
  {
   "cell_type": "code",
   "execution_count": 169,
   "metadata": {},
   "outputs": [
    {
     "name": "stdout",
     "output_type": "stream",
     "text": [
      "Track generation: 1165..1460 -> 295-tiles track\n",
      "Track generation: 1159..1453 -> 294-tiles track\n",
      "tf.Tensor(\n",
      "[[0.         0.23528478 0.16469935 ... 0.04705695 0.28234172 0.        ]\n",
      " [0.04705695 0.07058543 0.16469935 ... 0.         0.18822782 0.        ]\n",
      " [0.68232584 0.07058543 0.7293828  ... 0.         0.07058543 0.        ]\n",
      " ...\n",
      " [1.7646358  4.046898   0.16469935 ... 0.42351258 0.5176265  0.28234172]\n",
      " [2.0940344  3.7410278  0.11764239 ... 0.35292715 0.47056955 0.23528478]\n",
      " [2.0469775  3.8821988  0.11764239 ... 0.37645563 0.44704106 0.23528478]], shape=(1000, 1024), dtype=float32)\n",
      "tf.Tensor(\n",
      "[[ 0.20872426  0.1252885   0.02122058]\n",
      " [-0.33189642  0.85412323  0.1401515 ]\n",
      " [-0.22940731  0.48840925  0.9315034 ]\n",
      " ...\n",
      " [-0.6447742   0.49245512  0.2883023 ]\n",
      " [-0.45599937  0.7950263   0.7620641 ]\n",
      " [ 0.1504811   0.5412552   0.44896477]], shape=(1000, 3), dtype=float32)\n",
      "tf.Tensor(\n",
      "[-31.97279 -31.97279 -31.97279 -31.97279 -31.97279 -31.97279 -31.97279\n",
      " -31.97279 -31.97279 -31.97279 -31.97279 -31.97279 -31.97279 -31.97279\n",
      " -31.97279 -31.97279 -31.97279 -31.97279 -31.97279 -31.97279 -31.97279\n",
      " -31.97279 -31.97279 -31.97279 -31.97279 -31.97279 -31.97279 -31.97279\n",
      " -31.97279 -31.97279 -31.97279 -31.97279 -31.97279 -31.97279 -31.97279\n",
      " -31.97279 -31.97279 -31.97279 -31.97279 -31.97279 -31.97279 -31.97279\n",
      " -31.97279 -31.97279 -31.97279 -31.97279 -31.97279 -31.97279 -31.97279\n",
      " -31.97279 -31.97279 -31.97279 -31.97279 -31.97279 -31.97279 -31.97279\n",
      " -31.97279 -31.97279 -31.97279 -31.97279 -31.97279 -31.97279 -31.97279\n",
      " -31.97279 -31.97279 -31.97279 -31.97279 -31.97279 -31.97279 -31.97279\n",
      " -31.97279 -31.97279 -31.97279 -31.97279 -31.97279 -31.97279 -31.97279\n",
      " -31.97279 -31.97279 -31.97279 -31.97279 -31.97279 -31.97279 -31.97279\n",
      " -31.97279 -31.97279 -31.97279 -31.97279 -31.97279 -31.97279 -31.97279\n",
      " -31.97279 -31.97279 -31.97279 -31.97279 -31.97279 -31.97279 -31.97279\n",
      " -31.97279 -31.97279 -31.97279 -31.97279 -31.97279 -31.97279 -31.97279\n",
      " -31.97279 -31.97279 -31.97279 -31.97279 -31.97279 -31.97279 -31.97279\n",
      " -31.97279 -31.97279 -31.97279 -31.97279 -31.97279 -31.97279 -31.97279\n",
      " -31.97279 -31.97279 -31.97279 -31.97279 -31.97279 -31.97279 -31.97279\n",
      " -31.97279 -31.97279 -31.97279 -31.97279 -31.97279 -31.97279 -31.97279\n",
      " -31.97279 -31.97279 -31.97279 -31.97279 -31.97279 -31.97279 -31.97279\n",
      " -31.97279 -31.97279 -31.97279 -31.97279 -31.97279 -31.97279 -31.97279\n",
      " -31.97279 -31.97279 -31.97279 -31.97279 -31.97279 -31.97279 -31.97279\n",
      " -31.97279 -31.97279 -31.97279 -31.97279 -31.97279 -31.97279 -31.97279\n",
      " -31.97279 -31.97279 -31.97279 -31.97279 -31.97279 -31.97279 -31.97279\n",
      " -31.97279 -31.97279 -31.97279 -31.97279 -31.97279 -31.97279 -31.97279\n",
      " -31.97279 -31.97279 -31.97279 -31.97279 -31.97279 -31.97279 -31.97279\n",
      " -31.97279 -31.97279 -31.97279 -31.97279 -31.97279 -31.97279 -31.97279\n",
      " -31.97279 -31.97279 -31.97279 -31.97279 -31.97279 -31.97279 -31.97279\n",
      " -31.97279 -31.97279 -31.97279 -31.97279 -31.97279 -31.97279 -31.97279\n",
      " -31.97279 -31.97279 -31.97279 -31.97279 -31.97279 -31.97279 -31.97279\n",
      " -31.97279 -31.97279 -31.97279 -31.97279 -31.97279 -31.97279 -31.97279\n",
      " -31.97279 -31.97279 -31.97279 -31.97279 -31.97279 -31.97279 -31.97279\n",
      " -31.97279 -31.97279 -31.97279 -31.97279 -31.97279 -31.97279 -31.97279\n",
      " -31.97279 -31.97279 -31.97279 -31.97279 -31.97279 -31.97279 -31.97279\n",
      " -31.97279 -31.97279 -31.97279 -31.97279 -31.97279 -31.97279 -31.97279\n",
      " -31.97279 -31.97279 -31.97279 -31.97279 -31.97279 -31.97279 -31.97279\n",
      " -31.97279 -31.97279 -31.97279 -31.97279 -31.97279 -31.97279 -31.97279\n",
      " -31.97279 -31.97279 -31.97279 -31.97279 -31.97279 -31.97279 -31.97279\n",
      " -31.97279 -31.97279 -31.97279 -31.97279 -31.97279 -31.97279 -31.97279\n",
      " -31.97279 -31.97279 -31.97279 -31.97279 -31.97279 -31.97279 -31.97279\n",
      " -31.97279 -31.97279 -31.97279 -31.97279 -31.97279 -31.97279 -31.97279\n",
      " -31.97279 -31.97279 -31.97279 -31.97279 -31.97279 -31.97279 -31.97279\n",
      " -31.97279 -31.97279 -31.97279 -31.97279 -31.97279 -31.97279 -31.97279\n",
      " -31.97279 -31.97279 -31.97279 -31.97279 -31.97279 -31.97279 -31.97279\n",
      " -31.97279 -31.97279 -31.97279 -31.97279 -31.97279 -31.97279 -31.97279\n",
      " -31.97279 -31.97279 -31.97279 -31.97279 -31.97279 -31.97279 -31.97279\n",
      " -31.97279 -31.97279 -31.97279 -31.97279 -31.97279 -31.97279 -31.97279\n",
      " -31.97279 -31.97279 -31.97279 -31.97279 -31.97279 -31.97279 -31.97279\n",
      " -31.97279 -31.97279 -31.97279 -31.97279 -31.97279 -31.97279 -31.97279\n",
      " -31.97279 -31.97279 -31.97279 -31.97279 -31.97279 -31.97279 -31.97279\n",
      " -31.97279 -31.97279 -31.97279 -31.97279 -31.97279 -31.97279 -31.97279\n",
      " -31.97279 -31.97279 -31.97279 -31.97279 -31.97279 -31.97279 -31.97279\n",
      " -31.97279 -31.97279 -31.97279 -31.97279 -31.97279 -31.97279 -31.97279\n",
      " -31.97279 -31.97279 -31.97279 -31.97279 -31.97279 -31.97279 -31.97279\n",
      " -31.97279 -31.97279 -31.97279 -31.97279 -31.97279 -31.97279 -31.97279\n",
      " -31.97279 -31.97279 -31.97279 -31.97279 -31.97279 -31.97279 -31.97279\n",
      " -31.97279 -31.97279 -31.97279 -31.97279 -31.97279 -31.97279 -31.97279\n",
      " -31.97279 -31.97279 -31.97279 -31.97279 -31.97279 -31.97279 -31.97279\n",
      " -31.97279 -31.97279 -31.97279 -31.97279 -31.97279 -31.97279 -31.97279\n",
      " -31.97279 -31.97279 -31.97279 -31.97279 -31.97279 -31.97279 -31.97279\n",
      " -31.97279 -31.97279 -31.97279 -31.97279 -31.97279 -31.97279 -31.97279\n",
      " -31.97279 -31.97279 -31.97279 -31.97279 -31.97279 -31.97279 -31.97279\n",
      " -31.97279 -31.97279 -31.97279 -31.97279 -31.97279 -31.97279 -31.97279\n",
      " -31.97279 -31.97279 -31.97279 -31.97279 -31.97279 -31.97279 -31.97279\n",
      " -31.97279 -31.97279 -31.97279 -31.97279 -31.97279 -31.97279 -31.97279\n",
      " -31.97279 -31.97279 -31.97279 -31.97279 -31.97279 -31.97279 -31.97279\n",
      " -31.97279 -31.97279 -31.97279 -31.97279 -31.97279 -31.97279 -31.97279\n",
      " -31.97279 -31.97279 -31.97279 -31.97279 -31.97279 -31.97279 -31.97279\n",
      " -31.97279 -31.97279 -31.97279 -31.97279 -31.97279 -31.97279 -31.97279\n",
      " -31.97279 -31.97279 -31.97279 -31.97279 -31.97279 -31.97279 -31.97279\n",
      " -31.97279 -31.97279 -31.97279 -31.97279 -31.97279 -31.97279 -31.97279\n",
      " -31.97279 -31.97279 -31.97279 -31.97279 -31.97279 -31.97279 -31.97279\n",
      " -31.97279 -31.97279 -31.97279 -31.97279 -31.97279 -31.97279 -31.97279\n",
      " -31.97279 -31.97279 -31.97279 -31.97279 -31.97279 -31.97279 -31.97279\n",
      " -31.97279 -31.97279 -31.97279 -31.97279 -31.97279 -31.97279 -31.97279\n",
      " -31.97279 -31.97279 -31.97279 -31.97279 -31.97279 -31.97279 -31.97279\n",
      " -31.97279 -31.97279 -31.97279 -31.97279 -31.97279 -31.97279 -31.97279\n",
      " -31.97279 -31.97279 -31.97279 -31.97279 -31.97279 -31.97279 -31.97279\n",
      " -31.97279 -31.97279 -31.97279 -31.97279 -31.97279 -31.97279 -31.97279\n",
      " -31.97279 -31.97279 -31.97279 -31.97279 -31.97279 -31.97279 -31.97279\n",
      " -31.97279 -31.97279 -31.97279 -31.97279 -31.97279 -31.97279 -31.97279\n",
      " -31.97279 -31.97279 -31.97279 -31.97279 -31.97279 -31.97279 -31.97279\n",
      " -31.97279 -31.97279 -31.97279 -31.97279 -31.97279 -31.97279 -31.97279\n",
      " -31.97279 -31.97279 -31.97279 -31.97279 -31.97279 -31.97279 -31.97279\n",
      " -31.97279 -31.97279 -31.97279 -31.97279 -31.97279 -31.97279 -31.97279\n",
      " -31.97279 -31.97279 -31.97279 -31.97279 -31.97279 -31.97279 -31.97279\n",
      " -31.97279 -31.97279 -31.97279 -31.97279 -31.97279 -31.97279 -31.97279\n",
      " -31.97279 -31.97279 -31.97279 -31.97279 -31.97279 -31.97279 -31.97279\n",
      " -31.97279 -31.97279 -31.97279 -31.97279 -31.97279 -31.97279 -31.97279\n",
      " -31.97279 -31.97279 -31.97279 -31.97279 -31.97279 -31.97279 -31.97279\n",
      " -31.97279 -31.97279 -31.97279 -31.97279 -31.97279 -31.97279 -31.97279\n",
      " -31.97279 -31.97279 -31.97279 -31.97279 -31.97279 -31.97279 -31.97279\n",
      " -31.97279 -31.97279 -31.97279 -31.97279 -31.97279 -31.97279 -31.97279\n",
      " -31.97279 -31.97279 -31.97279 -31.97279 -31.97279 -31.97279 -31.97279\n",
      " -31.97279 -31.97279 -31.97279 -31.97279 -31.97279 -31.97279 -31.97279\n",
      " -31.97279 -31.97279 -31.97279 -31.97279 -31.97279 -31.97279 -31.97279\n",
      " -31.97279 -31.97279 -31.97279 -31.97279 -31.97279 -31.97279 -31.97279\n",
      " -31.97279 -31.97279 -31.97279 -31.97279 -31.97279 -31.97279 -31.97279\n",
      " -31.97279 -31.97279 -31.97279 -31.97279 -31.97279 -31.97279 -31.97279\n",
      " -31.97279 -31.97279 -31.97279 -31.97279 -31.97279 -31.97279 -31.97279\n",
      " -31.97279 -31.97279 -31.97279 -31.97279 -31.97279 -31.97279 -31.97279\n",
      " -31.97279 -31.97279 -31.97279 -31.97279 -31.97279 -31.97279 -31.97279\n",
      " -31.97279 -31.97279 -31.97279 -31.97279 -31.97279 -31.97279 -31.97279\n",
      " -31.97279 -31.97279 -31.97279 -31.97279 -31.97279 -31.97279 -31.97279\n",
      " -31.97279 -31.97279 -31.97279 -31.97279 -31.97279 -31.97279 -31.97279\n",
      " -31.97279 -31.97279 -31.97279 -31.97279 -31.97279 -31.97279 -31.97279\n",
      " -31.97279 -31.97279 -31.97279 -31.97279 -31.97279 -31.97279 -31.97279\n",
      " -31.97279 -31.97279 -31.97279 -31.97279 -31.97279 -31.97279 -31.97279\n",
      " -31.97279 -31.97279 -31.97279 -31.97279 -31.97279 -31.97279 -31.97279\n",
      " -31.97279 -31.97279 -31.97279 -31.97279 -31.97279 -31.97279 -31.97279\n",
      " -31.97279 -31.97279 -31.97279 -31.97279 -31.97279 -31.97279 -31.97279\n",
      " -31.97279 -31.97279 -31.97279 -31.97279 -31.97279 -31.97279 -31.97279\n",
      " -31.97279 -31.97279 -31.97279 -31.97279 -31.97279 -31.97279 -31.97279\n",
      " -31.97279 -31.97279 -31.97279 -31.97279 -31.97279 -31.97279 -31.97279\n",
      " -31.97279 -31.97279 -31.97279 -31.97279 -31.97279 -31.97279 -31.97279\n",
      " -31.97279 -31.97279 -31.97279 -31.97279 -31.97279 -31.97279 -31.97279\n",
      " -31.97279 -31.97279 -31.97279 -31.97279 -31.97279 -31.97279 -31.97279\n",
      " -31.97279 -31.97279 -31.97279 -31.97279 -31.97279 -31.97279 -31.97279\n",
      " -31.97279 -31.97279 -31.97279 -31.97279 -31.97279 -31.97279 -31.97279\n",
      " -31.97279 -31.97279 -31.97279 -31.97279 -31.97279 -31.97279 -31.97279\n",
      " -31.97279 -31.97279 -31.97279 -31.97279 -31.97279 -31.97279 -31.97279\n",
      " -31.97279 -31.97279 -31.97279 -31.97279 -31.97279 -31.97279 -31.97279\n",
      " -31.97279 -31.97279 -31.97279 -31.97279 -31.97279 -31.97279 -31.97279\n",
      " -31.97279 -31.97279 -31.97279 -31.97279 -31.97279 -31.97279 -31.97279\n",
      " -31.97279 -31.97279 -31.97279 -31.97279 -31.97279 -31.97279 -31.97279\n",
      " -31.97279 -31.97279 -31.97279 -31.97279 -31.97279 -31.97279 -31.97279\n",
      " -31.97279 -31.97279 -31.97279 -31.97279 -31.97279 -31.97279 -31.97279\n",
      " -31.97279 -31.97279 -31.97279 -31.97279 -31.97279 -31.97279 -31.97279\n",
      " -31.97279 -31.97279 -31.97279 -31.97279 -31.97279 -31.97279 -31.97279\n",
      " -31.97279 -31.97279 -31.97279 -31.97279 -31.97279 -31.97279 -31.97279\n",
      " -31.97279 -31.97279 -31.97279 -31.97279 -31.97279 -31.97279 -31.97279\n",
      " -31.97279 -31.97279 -31.97279 -31.97279 -31.97279 -31.97279 -31.97279\n",
      " -31.97279 -31.97279 -31.97279 -31.97279 -31.97279 -31.97279 -31.97279\n",
      " -31.97279 -31.97279 -31.97279 -31.97279 -31.97279 -31.97279 -31.97279\n",
      " -31.97279 -31.97279 -31.97279 -31.97279 -31.97279 -31.97279 -31.97279\n",
      " -31.97279 -31.97279 -31.97279 -31.97279 -31.97279 -31.97279 -31.97279\n",
      " -31.97279 -31.97279 -31.97279 -31.97279 -31.97279 -31.97279 -31.97279\n",
      " -31.97279 -31.97279 -31.97279 -31.97279 -31.97279 -31.97279 -31.97279\n",
      " -31.97279 -31.97279 -31.97279 -31.97279 -31.97279 -31.97279 -31.97279\n",
      " -31.97279 -31.97279 -31.97279 -31.97279 -31.97279 -31.97279 -31.97279\n",
      " -31.97279 -31.97279 -31.97279 -31.97279 -31.97279 -31.97279 -31.97279\n",
      " -31.97279 -31.97279 -31.97279 -31.97279 -31.97279 -31.97279 -31.97279\n",
      " -31.97279 -31.97279 -31.97279 -31.97279 -31.97279 -31.97279], shape=(1000,), dtype=float32)\n"
     ]
    },
    {
     "ename": "ValueError",
     "evalue": "Variable <tf.Variable 'dense_11/kernel:0' shape=(1024, 6) dtype=float32> has `None` for gradient. Please make sure that all of your ops have a gradient defined (i.e. are differentiable). Common ops without gradient: K.argmax, K.round, K.eval.",
     "output_type": "error",
     "traceback": [
      "\u001b[0;31m---------------------------------------------------------------------------\u001b[0m",
      "\u001b[0;31mValueError\u001b[0m                                Traceback (most recent call last)",
      "\u001b[0;32m<ipython-input-169-179735a6bb0b>\u001b[0m in \u001b[0;36m<module>\u001b[0;34m\u001b[0m\n\u001b[0;32m----> 1\u001b[0;31m \u001b[0mtrain_one_epoch\u001b[0m\u001b[0;34m(\u001b[0m\u001b[0;34m)\u001b[0m\u001b[0;34m\u001b[0m\u001b[0;34m\u001b[0m\u001b[0m\n\u001b[0m",
      "\u001b[0;32m<ipython-input-168-113958306795>\u001b[0m in \u001b[0;36mtrain_one_epoch\u001b[0;34m()\u001b[0m\n\u001b[1;32m     83\u001b[0m         \u001b[0mparams\u001b[0m\u001b[0;34m=\u001b[0m\u001b[0mnetwork\u001b[0m\u001b[0;34m.\u001b[0m\u001b[0mtrainable_weights\u001b[0m\u001b[0;34m,\u001b[0m\u001b[0;34m\u001b[0m\u001b[0;34m\u001b[0m\u001b[0m\n\u001b[1;32m     84\u001b[0m         \u001b[0;31m# constraints=[],\u001b[0m\u001b[0;34m\u001b[0m\u001b[0;34m\u001b[0m\u001b[0;34m\u001b[0m\u001b[0m\n\u001b[0;32m---> 85\u001b[0;31m         loss=batch_loss)\n\u001b[0m\u001b[1;32m     86\u001b[0m \u001b[0;34m\u001b[0m\u001b[0m\n\u001b[1;32m     87\u001b[0m     \u001b[0;32mreturn\u001b[0m \u001b[0mbatch_loss\u001b[0m\u001b[0;34m,\u001b[0m \u001b[0mbatch_rets\u001b[0m\u001b[0;34m,\u001b[0m \u001b[0mbatch_lens\u001b[0m\u001b[0;34m\u001b[0m\u001b[0;34m\u001b[0m\u001b[0m\n",
      "\u001b[0;32m~/.local/share/virtualenvs/matt_workspace-fQMXFmDG/lib/python3.7/site-packages/tensorflow_core/python/keras/optimizer_v2/optimizer_v2.py\u001b[0m in \u001b[0;36mget_updates\u001b[0;34m(self, loss, params)\u001b[0m\n\u001b[1;32m    501\u001b[0m \u001b[0;34m\u001b[0m\u001b[0m\n\u001b[1;32m    502\u001b[0m   \u001b[0;32mdef\u001b[0m \u001b[0mget_updates\u001b[0m\u001b[0;34m(\u001b[0m\u001b[0mself\u001b[0m\u001b[0;34m,\u001b[0m \u001b[0mloss\u001b[0m\u001b[0;34m,\u001b[0m \u001b[0mparams\u001b[0m\u001b[0;34m)\u001b[0m\u001b[0;34m:\u001b[0m\u001b[0;34m\u001b[0m\u001b[0;34m\u001b[0m\u001b[0m\n\u001b[0;32m--> 503\u001b[0;31m     \u001b[0mgrads\u001b[0m \u001b[0;34m=\u001b[0m \u001b[0mself\u001b[0m\u001b[0;34m.\u001b[0m\u001b[0mget_gradients\u001b[0m\u001b[0;34m(\u001b[0m\u001b[0mloss\u001b[0m\u001b[0;34m,\u001b[0m \u001b[0mparams\u001b[0m\u001b[0;34m)\u001b[0m\u001b[0;34m\u001b[0m\u001b[0;34m\u001b[0m\u001b[0m\n\u001b[0m\u001b[1;32m    504\u001b[0m     \u001b[0mgrads_and_vars\u001b[0m \u001b[0;34m=\u001b[0m \u001b[0mlist\u001b[0m\u001b[0;34m(\u001b[0m\u001b[0mzip\u001b[0m\u001b[0;34m(\u001b[0m\u001b[0mgrads\u001b[0m\u001b[0;34m,\u001b[0m \u001b[0mparams\u001b[0m\u001b[0;34m)\u001b[0m\u001b[0;34m)\u001b[0m\u001b[0;34m\u001b[0m\u001b[0;34m\u001b[0m\u001b[0m\n\u001b[1;32m    505\u001b[0m     self._assert_valid_dtypes([\n",
      "\u001b[0;32m~/.local/share/virtualenvs/matt_workspace-fQMXFmDG/lib/python3.7/site-packages/tensorflow_core/python/keras/optimizer_v2/optimizer_v2.py\u001b[0m in \u001b[0;36mget_gradients\u001b[0;34m(self, loss, params)\u001b[0m\n\u001b[1;32m    395\u001b[0m                            \u001b[0;34m\"gradient defined (i.e. are differentiable). \"\u001b[0m\u001b[0;34m\u001b[0m\u001b[0;34m\u001b[0m\u001b[0m\n\u001b[1;32m    396\u001b[0m                            \u001b[0;34m\"Common ops without gradient: \"\u001b[0m\u001b[0;34m\u001b[0m\u001b[0;34m\u001b[0m\u001b[0m\n\u001b[0;32m--> 397\u001b[0;31m                            \"K.argmax, K.round, K.eval.\".format(param))\n\u001b[0m\u001b[1;32m    398\u001b[0m       \u001b[0;32mif\u001b[0m \u001b[0mhasattr\u001b[0m\u001b[0;34m(\u001b[0m\u001b[0mself\u001b[0m\u001b[0;34m,\u001b[0m \u001b[0;34m\"clipnorm\"\u001b[0m\u001b[0;34m)\u001b[0m\u001b[0;34m:\u001b[0m\u001b[0;34m\u001b[0m\u001b[0;34m\u001b[0m\u001b[0m\n\u001b[1;32m    399\u001b[0m         \u001b[0mgrads\u001b[0m \u001b[0;34m=\u001b[0m \u001b[0;34m[\u001b[0m\u001b[0mclip_ops\u001b[0m\u001b[0;34m.\u001b[0m\u001b[0mclip_by_norm\u001b[0m\u001b[0;34m(\u001b[0m\u001b[0mg\u001b[0m\u001b[0;34m,\u001b[0m \u001b[0mself\u001b[0m\u001b[0;34m.\u001b[0m\u001b[0mclipnorm\u001b[0m\u001b[0;34m)\u001b[0m \u001b[0;32mfor\u001b[0m \u001b[0mg\u001b[0m \u001b[0;32min\u001b[0m \u001b[0mgrads\u001b[0m\u001b[0;34m]\u001b[0m\u001b[0;34m\u001b[0m\u001b[0;34m\u001b[0m\u001b[0m\n",
      "\u001b[0;31mValueError\u001b[0m: Variable <tf.Variable 'dense_11/kernel:0' shape=(1024, 6) dtype=float32> has `None` for gradient. Please make sure that all of your ops have a gradient defined (i.e. are differentiable). Common ops without gradient: K.argmax, K.round, K.eval."
     ]
    }
   ],
   "source": [
    "train_one_epoch()"
   ]
  },
  {
   "cell_type": "code",
   "execution_count": null,
   "metadata": {},
   "outputs": [],
   "source": [
    "# MMcD Optimizer for update step\n",
    "adam = tf.keras.optimizers.Adam(learning_rate=1e-4)\n",
    "# take a single policy gradient update step\n",
    "optimizer.zero_grad()\n",
    "batch_loss = compute_loss(obs=batch_obs, \n",
    "                          act=batch_acts, \n",
    "                          weights=batch_weights\n",
    "                        )\n",
    "updates = adam.get_updates(\n",
    "    params=network.trainable_weights,\n",
    "    constraints=[],\n",
    "    loss=loss)"
   ]
  }
 ],
 "metadata": {
  "kernelspec": {
   "display_name": "Python 3",
   "language": "python",
   "name": "python3"
  },
  "language_info": {
   "codemirror_mode": {
    "name": "ipython",
    "version": 3
   },
   "file_extension": ".py",
   "mimetype": "text/x-python",
   "name": "python",
   "nbconvert_exporter": "python",
   "pygments_lexer": "ipython3",
   "version": "3.7.5"
  }
 },
 "nbformat": 4,
 "nbformat_minor": 4
}
