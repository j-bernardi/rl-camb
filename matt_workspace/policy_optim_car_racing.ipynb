{
 "cells": [
  {
   "cell_type": "markdown",
   "metadata": {},
   "source": [
    "# Simple Policy Optimization\n",
    "Notebook for trying out the tooling involved in using policy gradient methods to train a model on CarRacing."
   ]
  },
  {
   "cell_type": "code",
   "execution_count": 2,
   "metadata": {},
   "outputs": [],
   "source": [
    "import tensorflow as tf\n",
    "import tensorflow_probability as tfp\n",
    "import gym\n",
    "import matplotlib.pyplot as plt\n",
    "import numpy as np\n",
    "tfd = tfp.distributions\n",
    "%matplotlib inline"
   ]
  },
  {
   "cell_type": "code",
   "execution_count": 3,
   "metadata": {},
   "outputs": [],
   "source": [
    "# Edge TPU for embedding extraction\n",
    "from edgetpu.basic import basic_engine"
   ]
  },
  {
   "cell_type": "code",
   "execution_count": 4,
   "metadata": {},
   "outputs": [],
   "source": [
    "import os\n",
    "if os.environ.get(\"DISPLAY\") is str and len(os.environ.get(\"DISPLAY\"))!=0:\n",
    "    !bash ../xvfb start\n",
    "    %env DISPLAY=:1\n",
    "# !pip install gym[box2d]"
   ]
  },
  {
   "cell_type": "code",
   "execution_count": 5,
   "metadata": {},
   "outputs": [],
   "source": [
    "model_path = os.path.join(\n",
    "    os.environ.get('HOME'), 'Work', 'ExternCode', 'edgetpu_models',\n",
    "    'mobilenet_v1_1.0_224_quant_embedding_extractor_edgetpu.tflite')"
   ]
  },
  {
   "cell_type": "code",
   "execution_count": 6,
   "metadata": {},
   "outputs": [
    {
     "data": {
      "text/plain": [
       "'2.1.0'"
      ]
     },
     "execution_count": 6,
     "metadata": {},
     "output_type": "execute_result"
    }
   ],
   "source": [
    "tf.__version__"
   ]
  },
  {
   "cell_type": "code",
   "execution_count": 7,
   "metadata": {},
   "outputs": [
    {
     "data": {
      "text/plain": [
       "True"
      ]
     },
     "execution_count": 7,
     "metadata": {},
     "output_type": "execute_result"
    }
   ],
   "source": [
    "tf.executing_eagerly()"
   ]
  },
  {
   "cell_type": "code",
   "execution_count": 8,
   "metadata": {},
   "outputs": [
    {
     "data": {
      "text/plain": [
       "'0.9.0'"
      ]
     },
     "execution_count": 8,
     "metadata": {},
     "output_type": "execute_result"
    }
   ],
   "source": [
    "tfp.__version__"
   ]
  },
  {
   "cell_type": "markdown",
   "metadata": {},
   "source": [
    "# Create Car Racing environment "
   ]
  },
  {
   "cell_type": "code",
   "execution_count": 9,
   "metadata": {},
   "outputs": [],
   "source": [
    "env_name = 'CarRacing-v0' # 'SpaceInvaders-v0'\n",
    "env = gym.make(env_name)"
   ]
  },
  {
   "cell_type": "code",
   "execution_count": 10,
   "metadata": {},
   "outputs": [
    {
     "data": {
      "text/plain": [
       "Box(96, 96, 3)"
      ]
     },
     "execution_count": 10,
     "metadata": {},
     "output_type": "execute_result"
    }
   ],
   "source": [
    "env.observation_space"
   ]
  },
  {
   "cell_type": "code",
   "execution_count": 11,
   "metadata": {},
   "outputs": [
    {
     "data": {
      "text/plain": [
       "Box(3,)"
      ]
     },
     "execution_count": 11,
     "metadata": {},
     "output_type": "execute_result"
    }
   ],
   "source": [
    "env.action_space"
   ]
  },
  {
   "cell_type": "code",
   "execution_count": 12,
   "metadata": {},
   "outputs": [
    {
     "name": "stdout",
     "output_type": "stream",
     "text": [
      "Track generation: 1087..1371 -> 284-tiles track\n"
     ]
    },
    {
     "data": {
      "image/png": "[encoded data removed]",
      "text/plain": [
       "<Figure size 432x288 with 1 Axes>"
      ]
     },
     "metadata": {
      "needs_background": "light"
     },
     "output_type": "display_data"
    }
   ],
   "source": [
    "_ = plt.imshow(env.reset())"
   ]
  },
  {
   "cell_type": "code",
   "execution_count": 13,
   "metadata": {},
   "outputs": [
    {
     "data": {
      "text/plain": [
       "(array([-1.,  0.,  0.], dtype=float32), array([1., 1., 1.], dtype=float32))"
      ]
     },
     "execution_count": 13,
     "metadata": {},
     "output_type": "execute_result"
    }
   ],
   "source": [
    "env.action_space.low, env.action_space.high"
   ]
  },
  {
   "cell_type": "code",
   "execution_count": 14,
   "metadata": {},
   "outputs": [
    {
     "data": {
      "text/plain": [
       "array([0.21740156, 0.82393134, 0.6710421 ], dtype=float32)"
      ]
     },
     "execution_count": 14,
     "metadata": {},
     "output_type": "execute_result"
    }
   ],
   "source": [
    "# Sampling from action space randomly\n",
    "# tfd.Multinomial(total_count=1, logits=[-1.] * env.action_space.n).sample(1)\n",
    "env.action_space.sample()"
   ]
  },
  {
   "cell_type": "markdown",
   "metadata": {},
   "source": [
    "# Next step: create sequence of frames  \n",
    "We can implement sequence of frames by allocating an initial n_frame x h x w x n_channel buffer tensor and concatenate each new frame onto buffer, removing the previous last element."
   ]
  },
  {
   "cell_type": "code",
   "execution_count": 15,
   "metadata": {},
   "outputs": [],
   "source": [
    "n_row_col = 2\n",
    "n_frame = n_row_col**2  # Square number for tiling\n",
    "buffer = tf.zeros((n_frame,) + env.observation_space.shape, dtype=tf.uint8)"
   ]
  },
  {
   "cell_type": "code",
   "execution_count": 16,
   "metadata": {},
   "outputs": [
    {
     "data": {
      "text/plain": [
       "TensorShape([4, 96, 96, 3])"
      ]
     },
     "execution_count": 16,
     "metadata": {},
     "output_type": "execute_result"
    }
   ],
   "source": [
    "buffer.shape"
   ]
  },
  {
   "cell_type": "code",
   "execution_count": 17,
   "metadata": {},
   "outputs": [],
   "source": [
    "# Update buffer by putting new frame at front, removing last frame in buffer\n",
    "for i in range(100):\n",
    "    obs, reward, done, info = env.step(env.action_space.sample())\n",
    "    updated_buffer = tf.concat([obs[tf.newaxis, ...], buffer[:-1, ...]], axis=0)\n",
    "    buffer = updated_buffer"
   ]
  },
  {
   "cell_type": "markdown",
   "metadata": {},
   "source": [
    "# Processing multiple frames as a single image\n",
    "Idea to try out: use a pre-trained image classification network such as MobileNet for embedding vector extraction and use this as input to the reinforcement learning algorithm.  This is also an excuse to play with my [coral.ai USB accelerator](https://coral.ai/docs/accelerator/get-started/). \n",
    "\n",
    "To do this we need to turn the `n_frame x h x w x c` tensor into a `(n x h) x (n x h) x c` image displaying multiple frames at the same time, where `n**2 = n_frame`."
   ]
  },
  {
   "cell_type": "code",
   "execution_count": 18,
   "metadata": {},
   "outputs": [],
   "source": [
    "def seq_to_img(seq, n):\n",
    "    res = []\n",
    "    for i in range(n):\n",
    "        res.append(tf.concat([seq[i*n + j, ...] for j in range(n)], axis=1))\n",
    "    return tf.concat(res, axis=0)"
   ]
  },
  {
   "cell_type": "code",
   "execution_count": 19,
   "metadata": {},
   "outputs": [
    {
     "data": {
      "image/png": "[encoded data removed]",
      "text/plain": [
       "<Figure size 864x576 with 1 Axes>"
      ]
     },
     "metadata": {
      "needs_background": "light"
     },
     "output_type": "display_data"
    }
   ],
   "source": [
    "fig = plt.figure(figsize=(12,8))\n",
    "# _ = plt.imshow(tf.reshape(tf.transpose(buffer, perm=[3, 2, 1, 0]), (2*96, 2*96, -1)))\n",
    "_ = plt.imshow(seq_to_img(buffer, n_row_col))\n",
    "ax = plt.gca()\n",
    "# ax.axis('equal')\n",
    "ax.set_aspect('equal', 'box')\n",
    "# fig.savefig('test.png')"
   ]
  },
  {
   "cell_type": "markdown",
   "metadata": {},
   "source": [
    "# Extract embedding\n",
    "Use the MobileNet v1 model running on EdgeTPU to convert the set of n_frame frames represented as a single image into a 1024 element feature vector"
   ]
  },
  {
   "cell_type": "code",
   "execution_count": 20,
   "metadata": {},
   "outputs": [],
   "source": [
    "engine = basic_engine.BasicEngine(model_path=model_path)"
   ]
  },
  {
   "cell_type": "code",
   "execution_count": 21,
   "metadata": {},
   "outputs": [
    {
     "data": {
      "text/plain": [
       "array([1024], dtype=int32)"
      ]
     },
     "execution_count": 21,
     "metadata": {},
     "output_type": "execute_result"
    }
   ],
   "source": [
    "engine.get_all_output_tensors_sizes()"
   ]
  },
  {
   "cell_type": "code",
   "execution_count": 22,
   "metadata": {},
   "outputs": [],
   "source": [
    "_, img_ht, img_wd, _ = engine.get_input_tensor_shape()"
   ]
  },
  {
   "cell_type": "code",
   "execution_count": 23,
   "metadata": {},
   "outputs": [],
   "source": [
    "buff_resized = tf.image.resize(seq_to_img(buffer, n_row_col), (img_ht, img_wd), method='nearest').numpy()"
   ]
  },
  {
   "cell_type": "code",
   "execution_count": 24,
   "metadata": {},
   "outputs": [
    {
     "data": {
      "text/plain": [
       "(224, 224, 3)"
      ]
     },
     "execution_count": 24,
     "metadata": {},
     "output_type": "execute_result"
    }
   ],
   "source": [
    "buff_resized.shape"
   ]
  },
  {
   "cell_type": "code",
   "execution_count": 25,
   "metadata": {},
   "outputs": [
    {
     "data": {
      "image/png": "[encoded data removed]",
      "text/plain": [
       "<Figure size 432x288 with 1 Axes>"
      ]
     },
     "metadata": {
      "needs_background": "light"
     },
     "output_type": "display_data"
    }
   ],
   "source": [
    "_ = plt.imshow(buff_resized)"
   ]
  },
  {
   "cell_type": "code",
   "execution_count": 26,
   "metadata": {},
   "outputs": [
    {
     "name": "stdout",
     "output_type": "stream",
     "text": [
      "Time taken to extract embedding: 4.76ms\n"
     ]
    }
   ],
   "source": [
    "_, _ = engine.run_inference(buff_resized.flatten()) # First run is slower, ignore\n",
    "time_ms, embedding = engine.run_inference(buff_resized.flatten())\n",
    "print(f'Time taken to extract embedding: {time_ms:.2f}ms')"
   ]
  },
  {
   "cell_type": "code",
   "execution_count": 27,
   "metadata": {},
   "outputs": [
    {
     "data": {
      "text/plain": [
       "array([4.5174675 , 0.        , 0.02352848, ..., 0.494098  , 0.        ,\n",
       "       0.        ], dtype=float32)"
      ]
     },
     "execution_count": 27,
     "metadata": {},
     "output_type": "execute_result"
    }
   ],
   "source": [
    "embedding"
   ]
  },
  {
   "cell_type": "code",
   "execution_count": 28,
   "metadata": {},
   "outputs": [
    {
     "data": {
      "image/png": "[encoded data removed]",
      "text/plain": [
       "<Figure size 432x288 with 1 Axes>"
      ]
     },
     "metadata": {
      "needs_background": "light"
     },
     "output_type": "display_data"
    }
   ],
   "source": [
    "_ = plt.imshow(embedding.reshape(8, -1))\n",
    "_ = plt.gca().axis('off')"
   ]
  },
  {
   "cell_type": "code",
   "execution_count": 29,
   "metadata": {},
   "outputs": [
    {
     "data": {
      "text/plain": [
       "(1024,)"
      ]
     },
     "execution_count": 29,
     "metadata": {},
     "output_type": "execute_result"
    }
   ],
   "source": [
    "embedding.shape"
   ]
  },
  {
   "cell_type": "markdown",
   "metadata": {},
   "source": [
    "# Define the policy network\n",
    "Now that we have a simple observation space to work with we can look at creating a policy network from it.\n",
    "Our action space is 3D \\[0., 1.\\] unit cube (-1.,-1 for first dimension) which suggests we could sample each action dimension from a Beta distribution. The Beta distribution is defined by two non-negative parameters a and b so a simple policy network can be created by using a single fully connected layer with exponential activation function."
   ]
  },
  {
   "cell_type": "code",
   "execution_count": 30,
   "metadata": {},
   "outputs": [],
   "source": [
    "inputs = tf.keras.layers.Input(shape=(1024, ))\n",
    "fc = tf.keras.layers.Dense(\n",
    "    6, activation='exponential',  kernel_initializer='zeros',\n",
    "    bias_initializer='zeros'\n",
    ")(inputs)\n",
    "unscaled_actions = tfp.layers.DistributionLambda(\n",
    "    lambda x: tfd.Beta(x[...,:3], x[..., 3:], name='unscaled')\n",
    ")(fc)\n",
    "# Shift and scale: subtract min, scale by range, add min\n",
    "shift_b1 = tfp.bijectors.Shift(env.action_space.low, name='shift_1')\n",
    "scale_b = tfp.bijectors.Scale(env.action_space.high - env.action_space.low, name='scale')\n",
    "shift_b2 = tfp.bijectors.Shift(-env.action_space.low, name='shift_2')\n",
    "# Transform the individual Beta distributions to get correct output ranges\n",
    "# and also combine into single event using tfd.Independent\n",
    "scaled_actions = tfp.layers.DistributionLambda(\n",
    "    lambda x: tfd.Independent(\n",
    "        tfd.TransformedDistribution(\n",
    "            distribution=x,\n",
    "            bijector=tfp.bijectors.Chain([shift_b2, scale_b, shift_b1]),\n",
    "            name='shift_scale'\n",
    "        ),\n",
    "        reinterpreted_batch_ndims=None,\n",
    "        name='independent'\n",
    "    ))(unscaled_actions)\n",
    "\n",
    "network = tf.keras.Model(inputs, scaled_actions)"
   ]
  },
  {
   "cell_type": "code",
   "execution_count": 31,
   "metadata": {},
   "outputs": [],
   "source": [
    "network.build(input_shape=(1024, ))"
   ]
  },
  {
   "cell_type": "code",
   "execution_count": 32,
   "metadata": {},
   "outputs": [
    {
     "name": "stdout",
     "output_type": "stream",
     "text": [
      "Model: \"model\"\n",
      "_________________________________________________________________\n",
      "Layer (type)                 Output Shape              Param #   \n",
      "=================================================================\n",
      "input_1 (InputLayer)         [(None, 1024)]            0         \n",
      "_________________________________________________________________\n",
      "dense (Dense)                (None, 6)                 6150      \n",
      "_________________________________________________________________\n",
      "distribution_lambda (Distrib ((None, 3), (None, 3))    0         \n",
      "_________________________________________________________________\n",
      "distribution_lambda_1 (Distr ((None, 3), (None, 3))    0         \n",
      "=================================================================\n",
      "Total params: 6,150\n",
      "Trainable params: 6,150\n",
      "Non-trainable params: 0\n",
      "_________________________________________________________________\n"
     ]
    }
   ],
   "source": [
    "network.summary()"
   ]
  },
  {
   "cell_type": "code",
   "execution_count": 33,
   "metadata": {},
   "outputs": [
    {
     "data": {
      "image/png": "[encoded data removed]",
      "text/plain": [
       "<Figure size 432x288 with 1 Axes>"
      ]
     },
     "metadata": {
      "needs_background": "light"
     },
     "output_type": "display_data"
    }
   ],
   "source": [
    "# Can sample from policy \n",
    "_ = plt.hist(network(embedding.reshape((1,-1))).sample(5000).numpy().reshape((-1, 3)))"
   ]
  },
  {
   "cell_type": "code",
   "execution_count": 34,
   "metadata": {},
   "outputs": [],
   "source": [
    "# Output of the policy is a probability distribution\n",
    "next_action = network(embedding.reshape((1,-1)))"
   ]
  },
  {
   "cell_type": "code",
   "execution_count": 35,
   "metadata": {},
   "outputs": [
    {
     "data": {
      "text/plain": [
       "<tf.Tensor: shape=(1,), dtype=float32, numpy=array([-0.6931472], dtype=float32)>"
      ]
     },
     "execution_count": 35,
     "metadata": {},
     "output_type": "execute_result"
    }
   ],
   "source": [
    "# Can get the probability of an action\n",
    "next_action.log_prob([0., 0., 0.])"
   ]
  },
  {
   "cell_type": "code",
   "execution_count": 36,
   "metadata": {},
   "outputs": [
    {
     "data": {
      "text/plain": [
       "<tf.Tensor: shape=(3,), dtype=float32, numpy=array([-0.4740162,  0.3473378,  0.8450126], dtype=float32)>"
      ]
     },
     "execution_count": 36,
     "metadata": {},
     "output_type": "execute_result"
    }
   ],
   "source": [
    "# Can generate an action\n",
    "next_action.sample()[0]"
   ]
  },
  {
   "cell_type": "markdown",
   "metadata": {},
   "source": [
    "# Reinforcement Learning\n",
    "Start with the [Policy Gradient example](https://spinningup.openai.com/en/latest/spinningup/rl_intro3.html) from SpinningUp at OpenAi.  Need to modify this to work with TensorFlow 2.1 by using tf.GradientTape in the training update, as well as reshaping data because of the representation chosen above.\n",
    "\n",
    "Currently this doesn't train well but at least runs without (any obvious) errors."
   ]
  },
  {
   "cell_type": "code",
   "execution_count": 37,
   "metadata": {},
   "outputs": [],
   "source": [
    "# for training policy\n",
    "def train_one_epoch():\n",
    "    # MMcD Storing sequence of frames\n",
    "    n_row_col = 2\n",
    "    n_frame = n_row_col**2  # Square number for tiling\n",
    "    buffer = tf.zeros((n_frame,) + env.observation_space.shape, dtype=tf.uint8)\n",
    "    batch_size = 5000\n",
    "        \n",
    "    # make some empty lists for logging.\n",
    "    batch_obs = []          # for observations\n",
    "    batch_acts = []         # for actions\n",
    "    batch_weights = []      # for R(tau) weighting in policy gradient\n",
    "    batch_rets = []         # for measuring episode returns\n",
    "    batch_lens = []         # for measuring episode lengths\n",
    "\n",
    "    # reset episode-specific variables\n",
    "    obs = env.reset()       # first obs comes from starting distribution\n",
    "    done = False            # signal from environment that episode is over\n",
    "    ep_rews = []            # list for rewards accrued throughout ep\n",
    "\n",
    "    # render first episode of each epoch\n",
    "    finished_rendering_this_epoch = False\n",
    "\n",
    "    updated_buffer = tf.concat([obs[tf.newaxis, ...], buffer[:-1, ...]], axis=0)\n",
    "    buffer = updated_buffer\n",
    "    \n",
    "    # MMcD Optimizer for update step\n",
    "    adam = tf.keras.optimizers.Adam(learning_rate=1e-4)\n",
    "    \n",
    "    # collect experience by acting in the environment with current policy\n",
    "    while True:\n",
    "\n",
    "#         # rendering\n",
    "#         if (not finished_rendering_this_epoch) and render:\n",
    "#             env.render()\n",
    "\n",
    "        buff_resized = tf.image.resize(\n",
    "            seq_to_img(buffer, n_row_col), (img_ht, img_wd), method='nearest').numpy()\n",
    "        time_ms, embedding = engine.run_inference(buff_resized.flatten())\n",
    "\n",
    "\n",
    "        # save obs\n",
    "        batch_obs.append(embedding.copy())\n",
    "\n",
    "        \n",
    "        # act in the environment\n",
    "        act = network(embedding.reshape((1,-1))).sample()[0].numpy()\n",
    "        # act = get_action(torch.as_tensor(obs, dtype=torch.float32))\n",
    "        obs, rew, done, _ = env.step(act)\n",
    "\n",
    "        updated_buffer = tf.concat([obs[tf.newaxis, ...], buffer[:-1, ...]], axis=0)\n",
    "        buffer = updated_buffer\n",
    "        \n",
    "        # save action, reward\n",
    "        batch_acts.append(act)\n",
    "        ep_rews.append(rew)\n",
    "\n",
    "        if done:\n",
    "            # if episode is over, record info about episode\n",
    "            ep_ret, ep_len = sum(ep_rews), len(ep_rews)\n",
    "            batch_rets.append(ep_ret)\n",
    "            batch_lens.append(ep_len)\n",
    "\n",
    "            # the weight for each logprob(a|s) is R(tau)\n",
    "            batch_weights += [ep_ret] * ep_len\n",
    "\n",
    "            # reset episode-specific variables\n",
    "            obs, done, ep_rews = env.reset(), False, []\n",
    "\n",
    "            # won't render again this epoch\n",
    "            finished_rendering_this_epoch = True\n",
    "\n",
    "            # end experience loop if we have enough of it\n",
    "            if len(batch_obs) > batch_size:\n",
    "                break\n",
    "\n",
    "    \n",
    "    with tf.GradientTape() as tape:\n",
    "        logp = network(\n",
    "            tf.convert_to_tensor(batch_obs)).log_prob(tf.convert_to_tensor(batch_acts))\n",
    "        batch_loss =  tf.reduce_mean(-(logp * tf.convert_to_tensor(batch_weights)))\n",
    "        \n",
    "        # Use the gradient tape to automatically retrieve\n",
    "        # the gradients of the trainable variables with respect to the loss.\n",
    "        grads = tape.gradient(batch_loss, network.trainable_weights)\n",
    "    \n",
    "        # Run one step of gradient descent by updating\n",
    "        # the value of the variables to minimize the loss.\n",
    "        adam.apply_gradients(zip(grads, network.trainable_weights))\n",
    "    \n",
    "        \n",
    "    return batch_loss, batch_rets, batch_lens"
   ]
  },
  {
   "cell_type": "code",
   "execution_count": 38,
   "metadata": {},
   "outputs": [
    {
     "name": "stdout",
     "output_type": "stream",
     "text": [
      "Track generation: 1035..1298 -> 263-tiles track\n",
      "Track generation: 977..1225 -> 248-tiles track\n",
      "Track generation: 1187..1488 -> 301-tiles track\n",
      "Track generation: 1279..1603 -> 324-tiles track\n",
      "Track generation: 1040..1309 -> 269-tiles track\n",
      "Track generation: 1011..1274 -> 263-tiles track\n",
      "Track generation: 1276..1599 -> 323-tiles track\n"
     ]
    },
    {
     "data": {
      "text/plain": [
       "(<tf.Tensor: shape=(), dtype=float32, numpy=-20.545082>,\n",
       " [-27.480916030534782,\n",
       "  -19.028340080971674,\n",
       "  -36.66666666666721,\n",
       "  -38.0804953560377,\n",
       "  -29.104477611940606,\n",
       "  -27.48091603053472],\n",
       " [1000, 1000, 1000, 1000, 1000, 1000])"
      ]
     },
     "execution_count": 38,
     "metadata": {},
     "output_type": "execute_result"
    }
   ],
   "source": [
    "train_one_epoch()"
   ]
  },
  {
   "cell_type": "code",
   "execution_count": 39,
   "metadata": {
    "scrolled": true
   },
   "outputs": [],
   "source": [
    "# for i in range(50):\n",
    "#     batch_loss_t, batch_rets_l, batch_lens = train_one_epoch()\n",
    "#     batch_loss = batch_loss_t.numpy()\n",
    "#     batch_rets = np.mean(batch_rets_l)\n",
    "#     print(f'Loss: {batch_loss:.2f}  Reward: {batch_rets}')\n",
    "    \n",
    "#     # Can sample from policy \n",
    "#     _ = plt.hist(network(embedding.reshape((1,-1))).sample(5000).numpy().reshape((-1, 3)))\n",
    "#     plt.show()"
   ]
  },
  {
   "cell_type": "code",
   "execution_count": 40,
   "metadata": {},
   "outputs": [
    {
     "name": "stdout",
     "output_type": "stream",
     "text": [
      "Track generation: 1132..1419 -> 287-tiles track\n",
      "Track generation: 1031..1293 -> 262-tiles track\n",
      "Track generation: 1121..1406 -> 285-tiles track\n",
      "Track generation: 1056..1324 -> 268-tiles track\n",
      "Track generation: 1243..1558 -> 315-tiles track\n",
      "Track generation: 1127..1413 -> 286-tiles track\n",
      "Track generation: 1135..1423 -> 288-tiles track\n"
     ]
    },
    {
     "data": {
      "text/plain": [
       "(<tf.Tensor: shape=(), dtype=float32, numpy=-18.515984>,\n",
       " [-30.0699300699304,\n",
       "  -19.540229885057467,\n",
       "  -26.056338028169204,\n",
       "  -25.093632958801535,\n",
       "  -33.12101910828078,\n",
       "  -29.824561403509115],\n",
       " [1000, 1000, 1000, 1000, 1000, 1000])"
      ]
     },
     "execution_count": 40,
     "metadata": {},
     "output_type": "execute_result"
    }
   ],
   "source": [
    "train_one_epoch()"
   ]
  },
  {
   "cell_type": "code",
   "execution_count": 41,
   "metadata": {},
   "outputs": [
    {
     "data": {
      "image/png": "[encoded data removed]",
      "text/plain": [
       "<Figure size 432x288 with 1 Axes>"
      ]
     },
     "metadata": {
      "needs_background": "light"
     },
     "output_type": "display_data"
    }
   ],
   "source": [
    "# Can sample from policy \n",
    "_ = plt.hist(network(embedding.reshape((1,-1))).sample(5000).numpy().reshape((-1, 3)))\n",
    "plt.show()"
   ]
  },
  {
   "cell_type": "code",
   "execution_count": 42,
   "metadata": {},
   "outputs": [],
   "source": [
    "# network.save_weights('car_racing_weights.h5')"
   ]
  },
  {
   "cell_type": "code",
   "execution_count": null,
   "metadata": {},
   "outputs": [],
   "source": []
  },
  {
   "cell_type": "code",
   "execution_count": null,
   "metadata": {},
   "outputs": [],
   "source": []
  }
 ],
 "metadata": {
  "kernelspec": {
   "display_name": "Python 3",
   "language": "python",
   "name": "python3"
  },
  "language_info": {
   "codemirror_mode": {
    "name": "ipython",
    "version": 3
   },
   "file_extension": ".py",
   "mimetype": "text/x-python",
   "name": "python",
   "nbconvert_exporter": "python",
   "pygments_lexer": "ipython3",
   "version": "3.7.5"
  }
 },
 "nbformat": 4,
 "nbformat_minor": 4
}
